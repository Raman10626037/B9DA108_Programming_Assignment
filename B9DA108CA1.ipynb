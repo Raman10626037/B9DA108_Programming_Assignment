{
  "nbformat": 4,
  "nbformat_minor": 0,
  "metadata": {
    "colab": {
      "provenance": []
    },
    "kernelspec": {
      "name": "python3",
      "display_name": "Python 3"
    },
    "language_info": {
      "name": "python"
    }
  },
  "cells": [
    {
      "cell_type": "code",
      "execution_count": null,
      "metadata": {
        "id": "9YsJFslmeIy4"
      },
      "outputs": [],
      "source": []
    },
    {
      "cell_type": "markdown",
      "source": [
        "Trying out the webscraping on celcet using on demmand lesson\n"
      ],
      "metadata": {
        "id": "Db6oF25N-G4A"
      }
    },
    {
      "cell_type": "code",
      "source": [
        "import requests\n",
        "import json\n",
        "import pandas as pd"
      ],
      "metadata": {
        "id": "3EDbk8dY-S72"
      },
      "execution_count": null,
      "outputs": []
    },
    {
      "cell_type": "code",
      "source": [
        "url = 'https://tts.dbs.ie/Home/GetCalendarData'"
      ],
      "metadata": {
        "id": "iAVIJ6q9AD-h"
      },
      "execution_count": null,
      "outputs": []
    },
    {
      "cell_type": "code",
      "source": [
        "headers = {'accept': 'application/json, text/javascript, */*; q=0.01',\n",
        "'accept-encoding': 'gzip, deflate',\n",
        "'accept-language': 'en-GB,en-US;q=0.9,en;q=0.8',\n",
        "'content-length': '117',\n",
        "'content-type': 'application/x-www-form-urlencoded; charset=UTF-8',\n",
        "'cookie': '.AspNetCore.Antiforgery.VsQGwGXGqGs=CfDJ8COt6JyvYllHn2LKaujQYkbF1jiTGeBVy-rIJ1wZlPkVYSZpPkKHhlEqJZpTeeDDAjM8YUmKCQlPYWoBfuvtDW88QbNGfkarH9iR0guvm5QV2e8XFy2kOrF4eGUbdzvJqz0beNiruTMb337khEzIBks; .Celcat.Calendar.Session=CfDJ8COt6JyvYllHn2LKaujQYkYjlfrbZQcVXC5cx9xrbn3ut%2Fg8haC2u0eLKVNRRUGntz%2B9tnO6TND6SVCWXSNFNskpO5%2Fcv8QoN3NsIqIor49Hwd%2BCXFFLYB1Uco1o%2FBvFJzRV%2BkKkwaNJDjLPjlW16EkdfLhoeJDvsw7ZrzViYCQz',\n",
        "'origin': 'https://tts.dbs.ie',\n",
        "'referer': 'https://tts.dbs.ie/cal?vt=agendaWeek&dt=2022-12-05&et=team&fid0=BMS09DNL%20-%201F09%20-%20D',\n",
        "'sec-ch-ua': '\"Google Chrome\";v=\"107\", \"Chromium\";v=\"107\", \"Not=A?Brand\";v=\"24\"',\n",
        "'sec-ch-ua-mobile': '?0',\n",
        "'sec-ch-ua-platform': '\"macOS\"',\n",
        "'sec-fetch-dest': 'empty',\n",
        "'sec-fetch-mode': 'cors',\n",
        "'sec-fetch-site': 'same-origin',\n",
        "'user-agent': 'Mozilla/5.0 (Macintosh; Intel Mac OS X 10_15_7) AppleWebKit/537.36 (KHTML, like Gecko) Chrome/107.0.0.0 Safari/537.36',\n",
        "'x-requested-with': 'XMLHttpRequest'}"
      ],
      "metadata": {
        "id": "Pnnrb83CC6zF"
      },
      "execution_count": null,
      "outputs": []
    },
    {
      "cell_type": "code",
      "source": [
        "data ='''start=2022-12-05&end=2022-12-12&resType=105&calView=agendaWeek&federationIds%5B%5D=BMS09DNL+-+1F09+-+D&colourScheme=3'''"
      ],
      "metadata": {
        "id": "xpbtoZGiQGGk"
      },
      "execution_count": null,
      "outputs": []
    },
    {
      "cell_type": "code",
      "source": [
        "resp =requests.post(url,data = data,headers=headers)"
      ],
      "metadata": {
        "id": "1NITWwPDQMTP"
      },
      "execution_count": null,
      "outputs": []
    },
    {
      "cell_type": "code",
      "source": [
        "output = json.loads(resp.content)"
      ],
      "metadata": {
        "id": "dxuEU25tQ3yg"
      },
      "execution_count": null,
      "outputs": []
    },
    {
      "cell_type": "code",
      "source": [
        "print(output)"
      ],
      "metadata": {
        "colab": {
          "base_uri": "https://localhost:8080/"
        },
        "id": "xXEApOG-RJqc",
        "outputId": "710ea4b3-0901-4548-9343-570b9ef1fc1c"
      },
      "execution_count": null,
      "outputs": [
        {
          "output_type": "stream",
          "name": "stdout",
          "text": [
            "[{'id': '1:2072563:16', 'start': '2022-12-09T09:00:00', 'end': '2022-12-09T13:00:00', 'allDay': False, 'description': 'CH3.1\\r\\n\\r\\n<br />\\r\\n\\r\\nMachine Learning and Pattern Recognition\\r\\n\\r\\n<br />\\r\\n\\r\\nCourtney Ford\\r\\n\\r\\n<br />\\r\\n\\r\\nOn Campus Delivery Full Time\\r\\n', 'backgroundColor': '#099CD5', 'textColor': '#ffffff', 'department': 'Computing', 'faculty': 'Cloud; Data Analytics; Information Systems; Cybersecurity; Artificial Intelligence', 'eventCategory': 'On Campus Delivery Full Time', 'site': None, 'module': 'B9DA109', 'registerStatus': 0, 'studentMark': 0, 'custom1': None, 'custom2': None, 'custom3': None}, {'id': '1:2072618:16', 'start': '2022-12-07T12:00:00', 'end': '2022-12-07T14:00:00', 'allDay': False, 'description': 'OC3\\r\\n\\r\\n<br />\\r\\n\\r\\nProgramming for Data Analysis\\r\\n\\r\\n<br />\\r\\n\\r\\nPaul Laird\\r\\n\\r\\n<br />\\r\\n\\r\\nOnline Delivery Full Time\\r\\n', 'backgroundColor': '#008000', 'textColor': '#ffffff', 'department': 'Computing', 'faculty': 'Cloud; Data Analytics; Information Systems; Cybersecurity; Artificial Intelligence', 'eventCategory': 'Online Delivery Full Time', 'site': None, 'module': 'B9DA108', 'registerStatus': 0, 'studentMark': 0, 'custom1': None, 'custom2': None, 'custom3': None}, {'id': '1:2216829:16', 'start': '2022-12-06T16:00:00', 'end': '2022-12-06T18:00:00', 'allDay': False, 'description': 'CH2.2\\r\\n\\r\\n<br />\\r\\n\\r\\nProgramming for Data Analysis\\r\\n\\r\\n<br />\\r\\n\\r\\nPaul Laird\\r\\n\\r\\n<br />\\r\\n\\r\\nOn Campus Delivery Full Time\\r\\n', 'backgroundColor': '#099CD5', 'textColor': '#ffffff', 'department': 'Computing', 'faculty': 'Cloud; Data Analytics; Information Systems; Cybersecurity; Artificial Intelligence', 'eventCategory': 'On Campus Delivery Full Time', 'site': None, 'module': 'B9DA108', 'registerStatus': 0, 'studentMark': 0, 'custom1': None, 'custom2': None, 'custom3': None}, {'id': '1:2270507:16', 'start': '2022-12-08T09:00:00', 'end': '2022-12-08T11:30:00', 'allDay': False, 'description': 'OC3\\r\\n\\r\\n<br />\\r\\n\\r\\nStatistics for Data Analytics\\r\\n\\r\\n<br />\\r\\n\\r\\nShahram Azizi Sazi\\r\\n\\r\\n<br />\\r\\n\\r\\nOnline Delivery Full Time\\r\\n', 'backgroundColor': '#008000', 'textColor': '#ffffff', 'department': 'Computing', 'faculty': 'Cloud; Data Analytics; Information Systems; Cybersecurity; Artificial Intelligence', 'eventCategory': 'Online Delivery Full Time', 'site': None, 'module': 'B9DA101', 'registerStatus': 0, 'studentMark': 0, 'custom1': None, 'custom2': None, 'custom3': None}]\n"
          ]
        }
      ]
    },
    {
      "cell_type": "code",
      "source": [
        "pd.json_normalize(output)"
      ],
      "metadata": {
        "colab": {
          "base_uri": "https://localhost:8080/",
          "height": 577
        },
        "id": "HDJMN3dGRfE5",
        "outputId": "edd01be1-61b7-4dc5-93d0-7d6b11887893"
      },
      "execution_count": null,
      "outputs": [
        {
          "output_type": "execute_result",
          "data": {
            "text/plain": [
              "             id                start                  end  allDay  \\\n",
              "0  1:2072563:16  2022-12-09T09:00:00  2022-12-09T13:00:00   False   \n",
              "1  1:2072618:16  2022-12-07T12:00:00  2022-12-07T14:00:00   False   \n",
              "2  1:2216829:16  2022-12-06T16:00:00  2022-12-06T18:00:00   False   \n",
              "3  1:2270507:16  2022-12-08T09:00:00  2022-12-08T11:30:00   False   \n",
              "\n",
              "                                         description backgroundColor  \\\n",
              "0  CH3.1\\r\\n\\r\\n<br />\\r\\n\\r\\nMachine Learning an...         #099CD5   \n",
              "1  OC3\\r\\n\\r\\n<br />\\r\\n\\r\\nProgramming for Data ...         #008000   \n",
              "2  CH2.2\\r\\n\\r\\n<br />\\r\\n\\r\\nProgramming for Dat...         #099CD5   \n",
              "3  OC3\\r\\n\\r\\n<br />\\r\\n\\r\\nStatistics for Data A...         #008000   \n",
              "\n",
              "  textColor department                                            faculty  \\\n",
              "0   #ffffff  Computing  Cloud; Data Analytics; Information Systems; Cy...   \n",
              "1   #ffffff  Computing  Cloud; Data Analytics; Information Systems; Cy...   \n",
              "2   #ffffff  Computing  Cloud; Data Analytics; Information Systems; Cy...   \n",
              "3   #ffffff  Computing  Cloud; Data Analytics; Information Systems; Cy...   \n",
              "\n",
              "                  eventCategory  site   module  registerStatus  studentMark  \\\n",
              "0  On Campus Delivery Full Time  None  B9DA109               0            0   \n",
              "1     Online Delivery Full Time  None  B9DA108               0            0   \n",
              "2  On Campus Delivery Full Time  None  B9DA108               0            0   \n",
              "3     Online Delivery Full Time  None  B9DA101               0            0   \n",
              "\n",
              "  custom1 custom2 custom3  \n",
              "0    None    None    None  \n",
              "1    None    None    None  \n",
              "2    None    None    None  \n",
              "3    None    None    None  "
            ],
            "text/html": [
              "\n",
              "  <div id=\"df-2a418768-5e6c-43b0-bb33-ef5d81614aaf\">\n",
              "    <div class=\"colab-df-container\">\n",
              "      <div>\n",
              "<style scoped>\n",
              "    .dataframe tbody tr th:only-of-type {\n",
              "        vertical-align: middle;\n",
              "    }\n",
              "\n",
              "    .dataframe tbody tr th {\n",
              "        vertical-align: top;\n",
              "    }\n",
              "\n",
              "    .dataframe thead th {\n",
              "        text-align: right;\n",
              "    }\n",
              "</style>\n",
              "<table border=\"1\" class=\"dataframe\">\n",
              "  <thead>\n",
              "    <tr style=\"text-align: right;\">\n",
              "      <th></th>\n",
              "      <th>id</th>\n",
              "      <th>start</th>\n",
              "      <th>end</th>\n",
              "      <th>allDay</th>\n",
              "      <th>description</th>\n",
              "      <th>backgroundColor</th>\n",
              "      <th>textColor</th>\n",
              "      <th>department</th>\n",
              "      <th>faculty</th>\n",
              "      <th>eventCategory</th>\n",
              "      <th>site</th>\n",
              "      <th>module</th>\n",
              "      <th>registerStatus</th>\n",
              "      <th>studentMark</th>\n",
              "      <th>custom1</th>\n",
              "      <th>custom2</th>\n",
              "      <th>custom3</th>\n",
              "    </tr>\n",
              "  </thead>\n",
              "  <tbody>\n",
              "    <tr>\n",
              "      <th>0</th>\n",
              "      <td>1:2072563:16</td>\n",
              "      <td>2022-12-09T09:00:00</td>\n",
              "      <td>2022-12-09T13:00:00</td>\n",
              "      <td>False</td>\n",
              "      <td>CH3.1\\r\\n\\r\\n&lt;br /&gt;\\r\\n\\r\\nMachine Learning an...</td>\n",
              "      <td>#099CD5</td>\n",
              "      <td>#ffffff</td>\n",
              "      <td>Computing</td>\n",
              "      <td>Cloud; Data Analytics; Information Systems; Cy...</td>\n",
              "      <td>On Campus Delivery Full Time</td>\n",
              "      <td>None</td>\n",
              "      <td>B9DA109</td>\n",
              "      <td>0</td>\n",
              "      <td>0</td>\n",
              "      <td>None</td>\n",
              "      <td>None</td>\n",
              "      <td>None</td>\n",
              "    </tr>\n",
              "    <tr>\n",
              "      <th>1</th>\n",
              "      <td>1:2072618:16</td>\n",
              "      <td>2022-12-07T12:00:00</td>\n",
              "      <td>2022-12-07T14:00:00</td>\n",
              "      <td>False</td>\n",
              "      <td>OC3\\r\\n\\r\\n&lt;br /&gt;\\r\\n\\r\\nProgramming for Data ...</td>\n",
              "      <td>#008000</td>\n",
              "      <td>#ffffff</td>\n",
              "      <td>Computing</td>\n",
              "      <td>Cloud; Data Analytics; Information Systems; Cy...</td>\n",
              "      <td>Online Delivery Full Time</td>\n",
              "      <td>None</td>\n",
              "      <td>B9DA108</td>\n",
              "      <td>0</td>\n",
              "      <td>0</td>\n",
              "      <td>None</td>\n",
              "      <td>None</td>\n",
              "      <td>None</td>\n",
              "    </tr>\n",
              "    <tr>\n",
              "      <th>2</th>\n",
              "      <td>1:2216829:16</td>\n",
              "      <td>2022-12-06T16:00:00</td>\n",
              "      <td>2022-12-06T18:00:00</td>\n",
              "      <td>False</td>\n",
              "      <td>CH2.2\\r\\n\\r\\n&lt;br /&gt;\\r\\n\\r\\nProgramming for Dat...</td>\n",
              "      <td>#099CD5</td>\n",
              "      <td>#ffffff</td>\n",
              "      <td>Computing</td>\n",
              "      <td>Cloud; Data Analytics; Information Systems; Cy...</td>\n",
              "      <td>On Campus Delivery Full Time</td>\n",
              "      <td>None</td>\n",
              "      <td>B9DA108</td>\n",
              "      <td>0</td>\n",
              "      <td>0</td>\n",
              "      <td>None</td>\n",
              "      <td>None</td>\n",
              "      <td>None</td>\n",
              "    </tr>\n",
              "    <tr>\n",
              "      <th>3</th>\n",
              "      <td>1:2270507:16</td>\n",
              "      <td>2022-12-08T09:00:00</td>\n",
              "      <td>2022-12-08T11:30:00</td>\n",
              "      <td>False</td>\n",
              "      <td>OC3\\r\\n\\r\\n&lt;br /&gt;\\r\\n\\r\\nStatistics for Data A...</td>\n",
              "      <td>#008000</td>\n",
              "      <td>#ffffff</td>\n",
              "      <td>Computing</td>\n",
              "      <td>Cloud; Data Analytics; Information Systems; Cy...</td>\n",
              "      <td>Online Delivery Full Time</td>\n",
              "      <td>None</td>\n",
              "      <td>B9DA101</td>\n",
              "      <td>0</td>\n",
              "      <td>0</td>\n",
              "      <td>None</td>\n",
              "      <td>None</td>\n",
              "      <td>None</td>\n",
              "    </tr>\n",
              "  </tbody>\n",
              "</table>\n",
              "</div>\n",
              "      <button class=\"colab-df-convert\" onclick=\"convertToInteractive('df-2a418768-5e6c-43b0-bb33-ef5d81614aaf')\"\n",
              "              title=\"Convert this dataframe to an interactive table.\"\n",
              "              style=\"display:none;\">\n",
              "        \n",
              "  <svg xmlns=\"http://www.w3.org/2000/svg\" height=\"24px\"viewBox=\"0 0 24 24\"\n",
              "       width=\"24px\">\n",
              "    <path d=\"M0 0h24v24H0V0z\" fill=\"none\"/>\n",
              "    <path d=\"M18.56 5.44l.94 2.06.94-2.06 2.06-.94-2.06-.94-.94-2.06-.94 2.06-2.06.94zm-11 1L8.5 8.5l.94-2.06 2.06-.94-2.06-.94L8.5 2.5l-.94 2.06-2.06.94zm10 10l.94 2.06.94-2.06 2.06-.94-2.06-.94-.94-2.06-.94 2.06-2.06.94z\"/><path d=\"M17.41 7.96l-1.37-1.37c-.4-.4-.92-.59-1.43-.59-.52 0-1.04.2-1.43.59L10.3 9.45l-7.72 7.72c-.78.78-.78 2.05 0 2.83L4 21.41c.39.39.9.59 1.41.59.51 0 1.02-.2 1.41-.59l7.78-7.78 2.81-2.81c.8-.78.8-2.07 0-2.86zM5.41 20L4 18.59l7.72-7.72 1.47 1.35L5.41 20z\"/>\n",
              "  </svg>\n",
              "      </button>\n",
              "      \n",
              "  <style>\n",
              "    .colab-df-container {\n",
              "      display:flex;\n",
              "      flex-wrap:wrap;\n",
              "      gap: 12px;\n",
              "    }\n",
              "\n",
              "    .colab-df-convert {\n",
              "      background-color: #E8F0FE;\n",
              "      border: none;\n",
              "      border-radius: 50%;\n",
              "      cursor: pointer;\n",
              "      display: none;\n",
              "      fill: #1967D2;\n",
              "      height: 32px;\n",
              "      padding: 0 0 0 0;\n",
              "      width: 32px;\n",
              "    }\n",
              "\n",
              "    .colab-df-convert:hover {\n",
              "      background-color: #E2EBFA;\n",
              "      box-shadow: 0px 1px 2px rgba(60, 64, 67, 0.3), 0px 1px 3px 1px rgba(60, 64, 67, 0.15);\n",
              "      fill: #174EA6;\n",
              "    }\n",
              "\n",
              "    [theme=dark] .colab-df-convert {\n",
              "      background-color: #3B4455;\n",
              "      fill: #D2E3FC;\n",
              "    }\n",
              "\n",
              "    [theme=dark] .colab-df-convert:hover {\n",
              "      background-color: #434B5C;\n",
              "      box-shadow: 0px 1px 3px 1px rgba(0, 0, 0, 0.15);\n",
              "      filter: drop-shadow(0px 1px 2px rgba(0, 0, 0, 0.3));\n",
              "      fill: #FFFFFF;\n",
              "    }\n",
              "  </style>\n",
              "\n",
              "      <script>\n",
              "        const buttonEl =\n",
              "          document.querySelector('#df-2a418768-5e6c-43b0-bb33-ef5d81614aaf button.colab-df-convert');\n",
              "        buttonEl.style.display =\n",
              "          google.colab.kernel.accessAllowed ? 'block' : 'none';\n",
              "\n",
              "        async function convertToInteractive(key) {\n",
              "          const element = document.querySelector('#df-2a418768-5e6c-43b0-bb33-ef5d81614aaf');\n",
              "          const dataTable =\n",
              "            await google.colab.kernel.invokeFunction('convertToInteractive',\n",
              "                                                     [key], {});\n",
              "          if (!dataTable) return;\n",
              "\n",
              "          const docLinkHtml = 'Like what you see? Visit the ' +\n",
              "            '<a target=\"_blank\" href=https://colab.research.google.com/notebooks/data_table.ipynb>data table notebook</a>'\n",
              "            + ' to learn more about interactive tables.';\n",
              "          element.innerHTML = '';\n",
              "          dataTable['output_type'] = 'display_data';\n",
              "          await google.colab.output.renderOutput(dataTable, element);\n",
              "          const docLink = document.createElement('div');\n",
              "          docLink.innerHTML = docLinkHtml;\n",
              "          element.appendChild(docLink);\n",
              "        }\n",
              "      </script>\n",
              "    </div>\n",
              "  </div>\n",
              "  "
            ]
          },
          "metadata": {},
          "execution_count": 17
        }
      ]
    }
  ]
}